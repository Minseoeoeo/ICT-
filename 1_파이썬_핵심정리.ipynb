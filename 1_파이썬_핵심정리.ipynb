{
  "nbformat": 4,
  "nbformat_minor": 0,
  "metadata": {
    "colab": {
      "private_outputs": true,
      "provenance": [],
      "authorship_tag": "ABX9TyNNteWjchOpJMjtLjkkgM7F",
      "include_colab_link": true
    },
    "kernelspec": {
      "name": "python3",
      "display_name": "Python 3"
    },
    "language_info": {
      "name": "python"
    }
  },
  "cells": [
    {
      "cell_type": "markdown",
      "metadata": {
        "id": "view-in-github",
        "colab_type": "text"
      },
      "source": [
        "<a href=\"https://colab.research.google.com/github/Minseoeoeo/ICT-/blob/main/1_%ED%8C%8C%EC%9D%B4%EC%8D%AC_%ED%95%B5%EC%8B%AC%EC%A0%95%EB%A6%AC.ipynb\" target=\"_parent\"><img src=\"https://colab.research.google.com/assets/colab-badge.svg\" alt=\"Open In Colab\"/></a>"
      ]
    },
    {
      "cell_type": "markdown",
      "source": [
        "파이썬 기본구조"
      ],
      "metadata": {
        "id": "0Ag_c1yUvMwl"
      }
    },
    {
      "cell_type": "code",
      "execution_count": null,
      "metadata": {
        "id": "m7dXuy3zrOUx"
      },
      "outputs": [],
      "source": [
        "print(\"Hello SSU\")"
      ]
    },
    {
      "cell_type": "code",
      "source": [
        "#myname='카리나'\n",
        "# 변수이름 = 데이터 (정의) => int, float, string, bool / (컬렉션타입) tuple, set, list, dictionary\n",
        "#변수"
      ],
      "metadata": {
        "id": "1wVIkkj8Mwug"
      },
      "execution_count": null,
      "outputs": []
    },
    {
      "cell_type": "code",
      "source": [
        "# 변수 (값이 변함)\n",
        "# \"#\" : 파이썬에서 주석처리할 때, 출력에서 제외하고 싶을 때\n",
        "print(\"Hello 닥터윌!\")\n",
        "# myname = \"카리나\"\n",
        "myname = \"카리나\"\n",
        "print(\"Hello \" + myname + \"!\")\n",
        "# 띄어쓰기해서 빈 칸도 문자로 인식\n",
        "# 문자열에서 '+' 하면 연결된다"
      ],
      "metadata": {
        "id": "8W7xMK4Wu9-0"
      },
      "execution_count": null,
      "outputs": []
    },
    {
      "cell_type": "code",
      "source": [
        "print(\"Hello\", myname, \"!\", sep=\" \")\n",
        "#sep : separate : 분리(분류)하다"
      ],
      "metadata": {
        "id": "C0PGi2uC2eZ_"
      },
      "execution_count": null,
      "outputs": []
    },
    {
      "cell_type": "code",
      "source": [
        "name = '숭실대'\n",
        "age = 20\n",
        "height = 174\n",
        "is_student = True   # 논리언어\n",
        "\n",
        "print(name, age, height, is_student)"
      ],
      "metadata": {
        "id": "Kjfonawq275g"
      },
      "execution_count": null,
      "outputs": []
    },
    {
      "cell_type": "markdown",
      "source": [
        "리스트와 딕셔너리 List, Dictionary"
      ],
      "metadata": {
        "id": "NEDs9Zj23WAd"
      }
    },
    {
      "cell_type": "code",
      "source": [
        "# 리스트(여러 개를 담는 그릇): 리스트는 들어간 순서를 기억한다.\n",
        "과일 = [\"사과\", \"바나나\", \"오렌지\"]\n",
        "print(과일)"
      ],
      "metadata": {
        "id": "WbKMTRi43Ym4"
      },
      "execution_count": null,
      "outputs": []
    },
    {
      "cell_type": "code",
      "source": [
        "# 인덱싱 indexing : 순서가 있을 때 번호표 (0부터 시작)\n",
        "# 질문: 과일에 몇번째에 바나나가 있어?\n",
        "과일 = [\"사과\", \"바나나\", \"오렌지\"]\n",
        "print(과일[1])\n",
        "print(과일[-2])"
      ],
      "metadata": {
        "id": "VzlMVAZn3rIw"
      },
      "execution_count": null,
      "outputs": []
    },
    {
      "cell_type": "code",
      "source": [
        "# 딕셔너리 {key : value} 키와 값의 쌍으로 되어있다.\n",
        "# 예) 토트넘 7번 선수는? 손흥민 >> Tot = {7 : \"SON\"} Tot[7] = SON\n",
        "\n",
        "Tot = {7 : \"손흥민\"}\n",
        "print(Tot[7])\n",
        "# key 에 접근해서 value(값)을 가져온다\n",
        "# 파이썬의 딕셔너리는 자바스크립트(웹)의 json와 호환됨\n"
      ],
      "metadata": {
        "id": "11MhdNVV4Dvy"
      },
      "execution_count": null,
      "outputs": []
    },
    {
      "cell_type": "code",
      "source": [
        "# 딕셔너리\n",
        "student = {\"이름\": \"민지\", \"학년\": 2, \"전공\": \"경영학\"}\n",
        "print(student[\"이름\"])"
      ],
      "metadata": {
        "id": "PQHF95_x5_Td"
      },
      "execution_count": null,
      "outputs": []
    },
    {
      "cell_type": "markdown",
      "source": [
        "조건문(if문)"
      ],
      "metadata": {
        "id": "kf_V6xz96bAQ"
      }
    },
    {
      "cell_type": "code",
      "source": [
        "score = 85  # 변수\n",
        "\n",
        "if score >= 90:\n",
        "    print(\"A\")        # 파이썬에서는 들여쓰기도 문법이다\n",
        "elif score >= 80:     # else + if => elif\n",
        "    print(\"B\")\n",
        "elif score >= 70:\n",
        "    print(\"C\")\n",
        "elif score >= 60:\n",
        "    print(\"D\")\n",
        "else:\n",
        "    print(\"F\")"
      ],
      "metadata": {
        "id": "pBQBM-sl6dD5"
      },
      "execution_count": null,
      "outputs": []
    },
    {
      "cell_type": "code",
      "source": [
        "# 리스트 요소 출력\n",
        "fruits = [\"사과\", \"바나나\", \"오렌지\"]\n",
        "# print(fruits)\n",
        "\n",
        "# for a in b : b=> 여러개의 값을 가진 것.\n",
        "# b 안에 속한 개별 값\n",
        "for fruit in fruits:\n",
        "    print(fruit)"
      ],
      "metadata": {
        "id": "FIkpbWRv7uve"
      },
      "execution_count": null,
      "outputs": []
    },
    {
      "cell_type": "markdown",
      "source": [
        "함수 정의 및 호출"
      ],
      "metadata": {
        "id": "_wUPE-L78NGs"
      }
    },
    {
      "cell_type": "code",
      "source": [
        "# 함수 만들기\n",
        "# 함수명은 맘대로 만들 수 있음\n",
        "# name 은 매개변수(바뀔 수 있다는 의미)\n",
        "# f(x) : function 함수\n",
        "# f(x) = 2x >> f(2) = 2*2 =4\n",
        "# def(define): 함수를 나타냄\n",
        "# print()\n",
        "# 매개변수: -> 심부름 재료\n",
        "def say_hello(name, age):\n",
        "    print(f\"{name} {age}세 님, 안녕하세요!\")\n",
        "    # f-string: format. string(문자열)\n",
        "    # >> f\"{변수명}\"\n",
        "\n",
        "print(say_hello(\"외대\", '25'))\n",
        "print(say_hello(\"김민서\", '25'))\n"
      ],
      "metadata": {
        "id": "KLAQHTMA8qUx"
      },
      "execution_count": null,
      "outputs": []
    },
    {
      "cell_type": "code",
      "source": [],
      "metadata": {
        "id": "QEfwbcof_8dC"
      },
      "execution_count": null,
      "outputs": []
    }
  ]
}